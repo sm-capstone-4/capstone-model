{
 "cells": [
  {
   "cell_type": "code",
   "execution_count": 2,
   "metadata": {},
   "outputs": [],
   "source": [
    "import numpy as np\n",
    "import dlib\n",
    "import cv2\n",
    "from sklearn.cluster import KMeans\n",
    "import matplotlib.pyplot as plt\n",
    "from colormath.color_objects import LabColor\n",
    "from colormath.color_diff import delta_e_cie1976\n",
    "import colorsys\n",
    "import csv\n",
    "import pandas as pd\n"
   ]
  },
  {
   "cell_type": "code",
   "execution_count": 3,
   "metadata": {},
   "outputs": [],
   "source": [
    "image = cv2.imread('12.jpg')\n",
    "\n",
    "# 읽어온 이미지 show\n",
    "    # cv2.imshow(\"read iamge\", image)\n",
    "    # cv2.waitKey(0)\n",
    "\n",
    "\n",
    "    # 읽어온 image 색체계 BGR -> Gray\n",
    "gray = cv2.cvtColor(image, cv2.COLOR_BGR2GRAY)\n",
    "\n",
    "    # gray로 바꾼 이미지 show\n",
    "    # cv2.imshow(\"Bgr -> Gray\", gray)\n",
    "    # cv2.waitKey(0)\n",
    "\n",
    "    # 면상 인식 모델 가져오기\n",
    "FaceDetector = dlib.get_frontal_face_detector()\n",
    "predictor = dlib.shape_predictor(\"./shape_predictor_68_face_landmarks.dat\")\n",
    "\n",
    "    # 가져온 모델에 gray 색체계로 만들 image 삽입\n",
    "faces = FaceDetector(gray)\n",
    "\n",
    "    # 얼굴 인식\n",
    "for face in faces:\n",
    "    # 얼굴 x1, x2 ,y1, y2 함수 통해서 가져옴\n",
    "    x1, y1, x2, y2 = face.left(), face.top(), face.right(), face.bottom()\n",
    "\n",
    "        # 가져온 4개의 자표로 얼굴 사각형 그리기\n",
    "    cv2.rectangle(image, pt1=(x1, y1), pt2=(x2, y2), color=(0, 255, 0), thickness=2)\n",
    "\n",
    "        # 사각형으로 그린부분 잘라서 img 변수에 저장\n",
    "    img = image[y1:y2, x1:x2]\n",
    "\n",
    "    # 사각형으로 자른 얼굴 show\n",
    "    # cv2.imshow(\"face recognization and save\", img)\n",
    "    # cv2.waitKey(0)\n",
    "\n",
    "    # img 폴터에 이미지이름_1.jpg 형식으로 저장\n",
    "# cv2.imwrite('./img/', '_1.jpg', img)\n",
    "\n",
    "    # 얼굴 인식해서 잘라 저장한 img를 BGR -> Gray 로 색체계 변경\n",
    "    # gray 변수에 저장\n",
    "gray = cv2.cvtColor(img, cv2.COLOR_BGR2GRAY)\n",
    "\n",
    "    # gray 저장한거 show\n",
    "    # cv2.imshow(\"Face Landmark\", gray)\n",
    "    # cv2.waitKey(0)\n",
    "\n",
    "    # 다시 얼굴 넣기\n",
    "faces = FaceDetector(gray)\n",
    "   # height, width, channel 변수에 저장\n",
    "h, w, c = img.shape\n",
    "\n",
    "# height, width, channel 크기에 따라\n",
    "# 적당한 크기의 써클을 그리기 위해\n",
    "# 여러 수치로 테스트 해보다가 40이 적당해서\n",
    "# 40으로 나눔\n",
    "# 그래서 circle size를 설정함\n",
    "circle_size = (h + w) // 30\n",
    "\n",
    "# 이제 68개의 점을 그릴건데\n",
    "# # 위에서 구한 circle_size로 그릴거임\n",
    "# for face in faces:\n",
    "#         shape = predictor(gray, face)\n",
    "#         for n in range(0, 68):\n",
    "#             x = shape.part(n).x\n",
    "#             y = shape.part(n).y\n",
    "#             cv2.circle(img, (x, y), circle_size, (0, 0, 0), -1)\n",
    "\n",
    "# 짠 다 그려서 한번 보자\n",
    "# cv2.imshow(\"draw circle\", img)\n",
    "# cv2.waitKey(0)"
   ]
  },
  {
   "cell_type": "code",
   "execution_count": 6,
   "metadata": {},
   "outputs": [
    {
     "data": {
      "text/plain": [
       "27"
      ]
     },
     "execution_count": 6,
     "metadata": {},
     "output_type": "execute_result"
    }
   ],
   "source": [
    "# YCrCb 색체계의 사람 피부색 범위를 알기 때문에\n",
    "# 일단 위에서 원까지 다그린 img 이미지를 YCrCb로 바꿔줌\n",
    "# 그걸 face_img_ycrcb에 저장\n",
    "face_img_ycrcb = cv2.cvtColor(img, cv2.COLOR_BGR2YCrCb)\n",
    "# 그래서 ycrcb 사람 피부색 범위가 (00, 133, 77) ~ (255, 173, 127)이 범위래\n",
    "# 근데 첫번째 00~255은 그냥 30 ~ 255로 내가 바꿈\n",
    "# 왜냐 이게 더 잘되는 듯?\n",
    "# 그리고 논문에도 133 ~ 173 이랑 77 ~ 127 내용은 봤는데\n",
    "# 00 ~ 255는 못본듯? 다시 봐야될 듯\n",
    "# 뭐 아무튼 이렇게 최솟값 lower랑 최댓값 upper를 저장함\n",
    "lower = np.array([30,133,77], dtype = np.uint8)\n",
    "upper = np.array([255,173,127], dtype = np.uint8)\n",
    "\n",
    "# 그리고 위에 face_img_ycrcb 저장한거에\n",
    "# inRange 함수써서 mask 엎어버리고\n",
    "skin_msk = cv2.inRange(face_img_ycrcb, lower, upper)\n",
    "\n",
    "\n",
    "# 이걸 기존 이미지에 마스크 해줌\n",
    "skin = cv2.bitwise_and(img, img, mask = skin_msk)\n",
    "\n",
    "# 그리고 보면 이렇게 보일 거임\n",
    "# 피부색 범위가 아닌 요소는 검은색으로 덮어 버린거\n",
    "# cv2.imshow(\"skin_msk\", skin)\n",
    "# cv2.waitKey(0)\n",
    "\n",
    "# 그리고 이제 RGB 값을 추출할거라]\n",
    "# BGR -> RGB로 바꿔줌\n",
    "# image = cv2.cvtColor(skin, cv2.COLOR_BGR2RGB)\n",
    "cv2.imshow(\"skin_msk\", skin)\n",
    "cv2.waitKey(0)"
   ]
  },
  {
   "cell_type": "code",
   "execution_count": 9,
   "metadata": {},
   "outputs": [
    {
     "name": "stdout",
     "output_type": "stream",
     "text": [
      "258 258 3\n"
     ]
    },
    {
     "ename": "KeyboardInterrupt",
     "evalue": "",
     "output_type": "error",
     "traceback": [
      "\u001b[1;31m---------------------------------------------------------------------------\u001b[0m",
      "\u001b[1;31mKeyboardInterrupt\u001b[0m                         Traceback (most recent call last)",
      "\u001b[1;32mc:\\Users\\2018A00591\\Desktop\\Capston\\dlibver\\B_GAN\\SkinDetection\\face_change.ipynb 셀 4\u001b[0m in \u001b[0;36m<cell line: 51>\u001b[1;34m()\u001b[0m\n\u001b[0;32m     <a href='vscode-notebook-cell:/c%3A/Users/2018A00591/Desktop/Capston/dlibver/B_GAN/SkinDetection/face_change.ipynb#W3sZmlsZQ%3D%3D?line=46'>47</a>\u001b[0m \u001b[39mprint\u001b[39m(h,w,c)\n\u001b[0;32m     <a href='vscode-notebook-cell:/c%3A/Users/2018A00591/Desktop/Capston/dlibver/B_GAN/SkinDetection/face_change.ipynb#W3sZmlsZQ%3D%3D?line=47'>48</a>\u001b[0m \u001b[39m# cv2.imshow('img',img)\u001b[39;00m\n\u001b[0;32m     <a href='vscode-notebook-cell:/c%3A/Users/2018A00591/Desktop/Capston/dlibver/B_GAN/SkinDetection/face_change.ipynb#W3sZmlsZQ%3D%3D?line=48'>49</a>\u001b[0m \u001b[39m# cv2.imwrite(\"1_HSV.jpg\",HSV_result)\u001b[39;00m\n\u001b[0;32m     <a href='vscode-notebook-cell:/c%3A/Users/2018A00591/Desktop/Capston/dlibver/B_GAN/SkinDetection/face_change.ipynb#W3sZmlsZQ%3D%3D?line=49'>50</a>\u001b[0m \u001b[39m# cv2.imwrite(\"3_global_result.jpg\",global_result)\u001b[39;00m\n\u001b[1;32m---> <a href='vscode-notebook-cell:/c%3A/Users/2018A00591/Desktop/Capston/dlibver/B_GAN/SkinDetection/face_change.ipynb#W3sZmlsZQ%3D%3D?line=50'>51</a>\u001b[0m cv2\u001b[39m.\u001b[39;49mwaitKey(\u001b[39m0\u001b[39;49m)\n\u001b[0;32m     <a href='vscode-notebook-cell:/c%3A/Users/2018A00591/Desktop/Capston/dlibver/B_GAN/SkinDetection/face_change.ipynb#W3sZmlsZQ%3D%3D?line=51'>52</a>\u001b[0m cv2\u001b[39m.\u001b[39mdestroyAllWindows()\n",
      "\u001b[1;31mKeyboardInterrupt\u001b[0m: "
     ]
    },
    {
     "ename": "",
     "evalue": "",
     "output_type": "error",
     "traceback": [
      "\u001b[1;31m현재 셀 또는 이전 셀에서 코드를 실행하는 동안 Kernel이 충돌했습니다. 셀의 코드를 검토하여 오류의 가능한 원인을 식별하세요. 자세한 내용을 보려면 <a href='https://aka.ms/vscodeJupyterKernelCrash'> 여기 </a> 를 클릭하세요. 자세한 내용은 Jupyter <a href='command:jupyter.viewOutput'>로그</a>를 참조하세요."
     ]
    }
   ],
   "source": [
    "import cv2\n",
    "import numpy as np\n",
    "img = skin\n",
    "#converting from gbr to hsv color space\n",
    "img_HSV = cv2.cvtColor(img, cv2.COLOR_BGR2HSV)\n",
    "#skin color range for hsv color space \n",
    "HSV_mask = cv2.inRange(img_HSV, (0, 15, 0), (17,170,255)) \n",
    "HSV_mask = cv2.morphologyEx(HSV_mask, cv2.MORPH_OPEN, np.ones((3,3), np.uint8))\n",
    "#converting from gbr to YCbCr color space\n",
    "img_YCrCb = cv2.cvtColor(img, cv2.COLOR_BGR2YCrCb)\n",
    "#skin color range for hsv color space \n",
    "YCrCb_mask = cv2.inRange(img_YCrCb, (30, 133, 77),(255, 173, 127)) \n",
    "YCrCb_mask = cv2.morphologyEx(YCrCb_mask, cv2.MORPH_OPEN, np.ones((3,3), np.uint8))\n",
    "\n",
    "#merge skin detection (YCbCr and hsv)\n",
    "global_mask=cv2.bitwise_and(YCrCb_mask,HSV_mask)\n",
    "global_mask=cv2.medianBlur(global_mask,3)\n",
    "global_mask = cv2.morphologyEx(global_mask, cv2.MORPH_OPEN, np.ones((4,4), np.uint8))\n",
    "\n",
    "\n",
    "HSV_result = cv2.bitwise_not(HSV_mask)\n",
    "YCrCb_result = cv2.bitwise_not(YCrCb_mask)\n",
    "global_result=cv2.bitwise_not(global_mask)\n",
    "mask_res = cv2.bitwise_and(img, img, mask = HSV_mask)\n",
    "\n",
    "#back_mask skin color\n",
    "img1 = np.zeros((480, 640, 3), dtype=np.uint8) \n",
    "h,w,c = img.shape\n",
    "skin_tone = np.full((h,w,c),(203,218,243),dtype=np.uint8)\n",
    "\n",
    "mask_res2 = cv2.bitwise_and(skin_tone, skin_tone, mask = HSV_mask)\n",
    "\n",
    "mask_res3 = cv2.bitwise_and(mask_res2, img, mask = HSV_result)\n",
    "\n",
    "mask_res4 = cv2.bitwise_and(mask_res3, img, mask = HSV_result)\n",
    "# 241,218,203\n",
    "#show results\n",
    "cv2.imshow(\"1_HSV.jpg\",YCrCb_result)\n",
    "# cv2.imshow(\"2_YCbCr.jpg\",YCrCb_result)\n",
    "# cv2.imshow(\"3_global_result.jpg\",global_result) \n",
    "cv2.imshow(\"sa.jpg\",skin_tone)\n",
    "# cv2.imshow(\"Image.jpg\",img)\n",
    "cv2.imshow(\"q1.jpg\",mask_res2)\n",
    "cv2.imshow(\"q2.jpg\",mask_res3)\n",
    "cv2.imshow(\"q3.jpg\",mask_res4)\n",
    "\n",
    "print(h,w,c)\n",
    "# cv2.imshow('img',img)\n",
    "# cv2.imwrite(\"1_HSV.jpg\",HSV_result)\n",
    "# cv2.imwrite(\"3_global_result.jpg\",global_result)\n",
    "cv2.waitKey(0)\n",
    "cv2.destroyAllWindows()  "
   ]
  }
 ],
 "metadata": {
  "kernelspec": {
   "display_name": "Python 3.9.13 ('base')",
   "language": "python",
   "name": "python3"
  },
  "language_info": {
   "codemirror_mode": {
    "name": "ipython",
    "version": 3
   },
   "file_extension": ".py",
   "mimetype": "text/x-python",
   "name": "python",
   "nbconvert_exporter": "python",
   "pygments_lexer": "ipython3",
   "version": "3.9.13"
  },
  "orig_nbformat": 4,
  "vscode": {
   "interpreter": {
    "hash": "e468021acd51a4a5e00fc3b97d06cd4efc5c6f1363bc0ffe0edc0018736d8c59"
   }
  }
 },
 "nbformat": 4,
 "nbformat_minor": 2
}
