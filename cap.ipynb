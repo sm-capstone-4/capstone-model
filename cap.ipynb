{
 "cells": [
  {
   "cell_type": "code",
   "execution_count": 1,
   "id": "4a71274e",
   "metadata": {},
   "outputs": [
    {
     "name": "stdout",
     "output_type": "stream",
     "text": [
      "Collecting opencv-python\n",
      "  Downloading opencv_python-4.6.0.66-cp36-abi3-win_amd64.whl (35.6 MB)\n",
      "Requirement already satisfied: numpy>=1.17.3 in c:\\users\\2018a00591\\anaconda3\\lib\\site-packages (from opencv-python) (1.21.5)\n",
      "Installing collected packages: opencv-python\n",
      "Successfully installed opencv-python-4.6.0.66\n",
      "Note: you may need to restart the kernel to use updated packages.\n"
     ]
    }
   ],
   "source": [
    "pip install opencv-python"
   ]
  },
  {
   "cell_type": "code",
   "execution_count": 4,
   "id": "faafae16",
   "metadata": {
    "scrolled": true
   },
   "outputs": [
    {
     "name": "stdout",
     "output_type": "stream",
     "text": [
      "Collecting imutils\n",
      "  Downloading imutils-0.5.4.tar.gz (17 kB)\n",
      "Building wheels for collected packages: imutils\n",
      "  Building wheel for imutils (setup.py): started\n",
      "  Building wheel for imutils (setup.py): finished with status 'done'\n",
      "  Created wheel for imutils: filename=imutils-0.5.4-py3-none-any.whl size=25872 sha256=36e49a3d8fbd58b873c5863b6f73cda5987b7608981d1950999ee99ef2daf3f7\n",
      "  Stored in directory: c:\\users\\2018a00591\\appdata\\local\\pip\\cache\\wheels\\4b\\a5\\2d\\4a070a801d3a3d93f033d3ee9728f470f514826e89952df3ea\n",
      "Successfully built imutils\n",
      "Installing collected packages: imutils\n",
      "Successfully installed imutils-0.5.4\n",
      "Note: you may need to restart the kernel to use updated packages.\n"
     ]
    }
   ],
   "source": [
    "pip install imutils"
   ]
  },
  {
   "cell_type": "code",
   "execution_count": 6,
   "id": "47985cab",
   "metadata": {},
   "outputs": [
    {
     "name": "stdout",
     "output_type": "stream",
     "text": [
      "Collecting cmake\n",
      "  Downloading cmake-3.24.1.1-py2.py3-none-win_amd64.whl (39.7 MB)\n",
      "Installing collected packages: cmake\n",
      "Successfully installed cmake-3.24.1.1\n",
      "Note: you may need to restart the kernel to use updated packages.\n"
     ]
    }
   ],
   "source": [
    "pip install cmake"
   ]
  },
  {
   "cell_type": "code",
   "execution_count": 7,
   "id": "73747302",
   "metadata": {},
   "outputs": [
    {
     "name": "stdout",
     "output_type": "stream",
     "text": [
      "Collecting package metadata (current_repodata.json): ...working... done\n",
      "Solving environment: ...working... done\n",
      "\n",
      "## Package Plan ##\n",
      "\n",
      "  environment location: C:\\Users\\2018A00591\\anaconda3\n",
      "\n",
      "  added / updated specs:\n",
      "    - conda\n",
      "\n",
      "\n",
      "The following packages will be downloaded:\n",
      "\n",
      "    package                    |            build\n",
      "    ---------------------------|-----------------\n",
      "    conda-4.14.0               |   py39haa95532_0         937 KB\n",
      "    conda-repo-cli-1.0.5       |   py39haa95532_0         122 KB\n",
      "    pathlib-1.0.1              |     pyhd3eb1b0_1          17 KB\n",
      "    pyjwt-2.4.0                |   py39haa95532_0          38 KB\n",
      "    ------------------------------------------------------------\n",
      "                                           Total:         1.1 MB\n",
      "\n",
      "The following NEW packages will be INSTALLED:\n",
      "\n",
      "  pathlib            pkgs/main/noarch::pathlib-1.0.1-pyhd3eb1b0_1\n",
      "\n",
      "The following packages will be UPDATED:\n",
      "\n",
      "  conda-repo-cli     pkgs/main/noarch::conda-repo-cli-1.0.~ --> pkgs/main/win-64::conda-repo-cli-1.0.5-py39haa95532_0\n",
      "  pyjwt                                2.1.0-py39haa95532_0 --> 2.4.0-py39haa95532_0\n",
      "\n",
      "The following packages will be SUPERSEDED by a higher-priority channel:\n",
      "\n",
      "  conda              conda-forge::conda-4.14.0-py39hcbf530~ --> pkgs/main::conda-4.14.0-py39haa95532_0\n",
      "\n",
      "\n",
      "\n",
      "Downloading and Extracting Packages\n",
      "\n",
      "pyjwt-2.4.0          | 38 KB     |            |   0% \n",
      "pyjwt-2.4.0          | 38 KB     | ########## | 100% \n",
      "pyjwt-2.4.0          | 38 KB     | ########## | 100% \n",
      "\n",
      "pathlib-1.0.1        | 17 KB     |            |   0% \n",
      "pathlib-1.0.1        | 17 KB     | ########## | 100% \n",
      "\n",
      "conda-repo-cli-1.0.5 | 122 KB    |            |   0% \n",
      "conda-repo-cli-1.0.5 | 122 KB    | ########## | 100% \n",
      "conda-repo-cli-1.0.5 | 122 KB    | ########## | 100% \n",
      "\n",
      "conda-4.14.0         | 937 KB    |            |   0% \n",
      "conda-4.14.0         | 937 KB    | ########## | 100% \n",
      "conda-4.14.0         | 937 KB    | ########## | 100% \n",
      "Preparing transaction: ...working... done\n",
      "Verifying transaction: ...working... done\n",
      "Executing transaction: ...working... done\n",
      "Retrieving notices: ...working... done\n",
      "\n",
      "Note: you may need to restart the kernel to use updated packages.\n"
     ]
    }
   ],
   "source": [
    "conda update -n base -c defaults conda"
   ]
  },
  {
   "cell_type": "code",
   "execution_count": 8,
   "id": "af39acc7",
   "metadata": {},
   "outputs": [],
   "source": [
    "import dlib"
   ]
  },
  {
   "cell_type": "code",
   "execution_count": 4,
   "id": "318c17d0",
   "metadata": {},
   "outputs": [],
   "source": [
    "# Facial landmarks with dlib, OpenCV, and PythonPython\n",
    "\n",
    "# import the necessary packages\n",
    "from imutils import face_utils\n",
    "import numpy as np\n",
    "import imutils\n",
    "import dlib\n",
    "import cv2\n",
    "\n",
    "\n",
    "def show_raw_detection(image, detector, predictor):\n",
    "    gray = cv2.cvtColor(image, cv2.COLOR_BGR2GRAY)\n",
    "\n",
    "    # detect faces in the grayscale image\n",
    "    rects = detector(gray, 1)\n",
    "\n",
    "    # loop over the face detections\n",
    "    for (i, rect) in enumerate(rects):\n",
    "        # determine the facial landmarks for the face region, then\n",
    "        # convert the facial landmark (x, y)-coordinates to a NumPy\n",
    "        # array\n",
    "        shape = predictor(gray, rect)\n",
    "        shape = face_utils.shape_to_np(shape)\n",
    "\n",
    "        # convert dlib's rectangle to a OpenCV-style bounding box\n",
    "        # [i.e., (x, y, w, h)], then draw the face bounding box\n",
    "        (x, y, w, h) = face_utils.rect_to_bb(rect)\n",
    "        cv2.rectangle(image, (x, y), (x + w, y + h), (0, 255, 0), 2)\n",
    "\n",
    "        # show the face number\n",
    "        cv2.putText(image, \"Face #{}\".format(i + 1), (x - 10, y - 10),\n",
    "                    cv2.FONT_HERSHEY_SIMPLEX, 0.5, (0, 255, 0), 2)\n",
    "\n",
    "        # loop over the (x, y)-coordinates for the facial landmarks\n",
    "        # and draw them on the image\n",
    "        for (x, y) in shape:\n",
    "            cv2.circle(image, (x, y), 1, (0, 0, 255), -1)\n",
    "\n",
    "    # show the output image with the face detections + facial landmarks\n",
    "    cv2.imshow(\"Output\", image)\n",
    "    cv2.waitKey(0)\n",
    "\n",
    "\n",
    "def draw_individual_detections(image, detector, predictor):\n",
    "    gray = cv2.cvtColor(image, cv2.COLOR_BGR2GRAY)\n",
    "\n",
    "    # detect faces in the grayscale image\n",
    "    rects = detector(gray, 1)\n",
    "\n",
    "    # loop over the face detections\n",
    "    for (i, rect) in enumerate(rects):\n",
    "        # determine the facial landmarks for the face region, then\n",
    "        # convert the landmark (x, y)-coordinates to a NumPy array\n",
    "        shape = predictor(gray, rect)\n",
    "        shape = face_utils.shape_to_np(shape)\n",
    "\n",
    "        # loop over the face parts individually\n",
    "        for (name, (i, j)) in face_utils.FACIAL_LANDMARKS_IDXS.items():\n",
    "            # clone the original image so we can draw on it, then\n",
    "            # display the name of the face part on the image\n",
    "            clone = image.copy()\n",
    "            cv2.putText(clone, name, (10, 30), cv2.FONT_HERSHEY_SIMPLEX,\n",
    "                        0.7, (0, 0, 255), 2)\n",
    "\n",
    "            # loop over the subset of facial landmarks, drawing the\n",
    "            # specific face part\n",
    "            for (x, y) in shape[i:j]:\n",
    "                cv2.circle(clone, (x, y), 1, (0, 0, 255), -1)\n",
    "\n",
    "            # extract the ROI of the face region as a separate image\n",
    "            (x, y, w, h) = cv2.boundingRect(np.array([shape[i:j]]))\n",
    "            roi = image[y:y + h, x:x + w]\n",
    "            roi = imutils.resize(roi, width=250, inter=cv2.INTER_CUBIC)\n",
    "\n",
    "            # show the particular face part\n",
    "            cv2.imshow(\"ROI\", roi)\n",
    "            cv2.imshow(\"Image\", clone)\n",
    "            cv2.waitKey(0)\n",
    "\n",
    "        # visualize all facial landmarks with a transparent overlay\n",
    "        output = face_utils.visualize_facial_landmarks(image, shape)\n",
    "        cv2.imshow(\"Image\", output)\n",
    "        cv2.waitKey(0)\n",
    "\n",
    "\n",
    "# initialize dlib's face detector (HOG-based) and then create\n",
    "# the facial landmark predictor\n",
    "detector = dlib.get_frontal_face_detector()\n",
    "predictor = dlib.shape_predictor('shape_predictor_68_face_landmarks.dat')\n",
    "\n",
    "# load the input image, resize it, and convert it to grayscale\n",
    "image = cv2.imread('13.jpg')\n",
    "image = imutils.resize(image, width=500)\n",
    "show_raw_detection(image, detector, predictor)\n",
    "draw_individual_detections(image, detector, predictor)\n"
   ]
  },
  {
   "cell_type": "code",
   "execution_count": 4,
   "id": "225824e5",
   "metadata": {},
   "outputs": [],
   "source": [
    "import cv2\n",
    "import numpy as np\n",
    "import matplotlib.pyplot as plt\n",
    "from skimage import io"
   ]
  },
  {
   "cell_type": "code",
   "execution_count": 31,
   "id": "ec9fc074",
   "metadata": {},
   "outputs": [
    {
     "data": {
      "image/png": "[encoded data removed]",
      "text/plain": [
       "<Figure size 432x288 with 3 Axes>"
      ]
     },
     "metadata": {
      "needs_background": "light"
     },
     "output_type": "display_data"
    }
   ],
   "source": [
    "image = io.imread('qqq.jpg')\n",
    "output1= cv2.cvtColor(image, cv2.COLOR_RGB2LAB)\n",
    "output2 = cv2.cvtColor(output1, cv2.COLOR_LAB2RGB)\n",
    "# view\n",
    "img_list = [image, output1,output2]\n",
    "title_list = ['RGB', 'Lab','L2R']\n",
    "\n",
    "for i in range(len(img_list)):\n",
    "    plt.subplot(1, 3, i+1, )\n",
    "    plt.imshow(img_list[i])\n",
    "    plt.title(title_list[i])\n",
    "    plt.axis('off')\n",
    "\n",
    "plt.show()"
   ]
  },
  {
   "cell_type": "code",
   "execution_count": 14,
   "id": "9819dea8",
   "metadata": {},
   "outputs": [
    {
     "ename": "NameError",
     "evalue": "name 'rgb2lab' is not defined",
     "output_type": "error",
     "traceback": [
      "\u001b[1;31m---------------------------------------------------------------------------\u001b[0m",
      "\u001b[1;31mNameError\u001b[0m                                 Traceback (most recent call last)",
      "Input \u001b[1;32mIn [14]\u001b[0m, in \u001b[0;36m<cell line: 4>\u001b[1;34m()\u001b[0m\n\u001b[0;32m      1\u001b[0m \u001b[38;5;66;03m# lab = rgb2lab(RGB)\u001b[39;00m\n\u001b[0;32m      2\u001b[0m \u001b[38;5;66;03m# lab = rgb2lab(RGB,Name,Value)\u001b[39;00m\n\u001b[1;32m----> 4\u001b[0m lab_t \u001b[38;5;241m=\u001b[39m \u001b[43mrgb2lab\u001b[49m(\u001b[38;5;241m206\u001b[39m,\u001b[38;5;241m106\u001b[39m,\u001b[38;5;241m177\u001b[39m)\n",
      "\u001b[1;31mNameError\u001b[0m: name 'rgb2lab' is not defined"
     ]
    }
   ],
   "source": [
    "# RGB -> XYZ // XYZ -> CIE-L*ab\n",
    "\n"
   ]
  },
  {
   "cell_type": "markdown",
   "id": "47665d26",
   "metadata": {},
   "source": [
    "//sR, sG and sB (Standard RGB) input range = 0 ÷ 255\n",
    "//X, Y and Z output refer to a D65/2° standard illuminant.\n",
    "\n",
    "var_R = ( sR / 255 )\n",
    "var_G = ( sG / 255 )\n",
    "var_B = ( sB / 255 )\n",
    "\n",
    "if ( var_R > 0.04045 ) var_R = ( ( var_R + 0.055 ) / 1.055 ) ^ 2.4\n",
    "else                   var_R = var_R / 12.92\n",
    "if ( var_G > 0.04045 ) var_G = ( ( var_G + 0.055 ) / 1.055 ) ^ 2.4\n",
    "else                   var_G = var_G / 12.92\n",
    "if ( var_B > 0.04045 ) var_B = ( ( var_B + 0.055 ) / 1.055 ) ^ 2.4\n",
    "else                   var_B = var_B / 12.92\n",
    "\n",
    "var_R = var_R * 100\n",
    "var_G = var_G * 100\n",
    "var_B = var_B * 100\n",
    "\n",
    "X = var_R * 0.4124 + var_G * 0.3576 + var_B * 0.1805\n",
    "Y = var_R * 0.2126 + var_G * 0.7152 + var_B * 0.0722\n",
    "Z = var_R * 0.0193 + var_G * 0.1192 + var_B * 0.9505"
   ]
  },
  {
   "cell_type": "code",
   "execution_count": 364,
   "id": "704ad08e",
   "metadata": {},
   "outputs": [],
   "source": [
    "def sRGB2XYZ(sR,sG, sB):\n",
    "    var_R = float( sR / 255 )\n",
    "    var_G = float( sG / 255 )\n",
    "    var_B = float( sB / 255 )\n",
    "    if ( var_R > 0.04045 ):\n",
    "        var_R = (( var_R + 0.055 ) / 1.055 )**2.4\n",
    "    else:\n",
    "        var_R = var_R / 12.92\n",
    "    if( var_G > 0.04045 ):\n",
    "        var_G = ( ( var_G + 0.055 ) / 1.055 )**2.4\n",
    "    else:\n",
    "        var_G = var_G / 12.92\n",
    "    if( var_B > 0.04045 ):\n",
    "        var_B = ( ( var_B + 0.055 ) / 1.055 ) **2.4\n",
    "    else:\n",
    "        var_B = var_B / 12.92\n",
    "\n",
    "    var_R = var_R * 100\n",
    "    var_G = var_G * 100\n",
    "    var_B = var_B * 100\n",
    "    \n",
    "    X = round(var_R * 0.4124 + var_G * 0.3576 + var_B * 0.1805, 1)\n",
    "    Y = round(var_R * 0.2126 + var_G * 0.7152 + var_B * 0.0722, 1)\n",
    "    Z = round(var_R * 0.0193 + var_G * 0.1192 + var_B * 0.9505, 1)\n",
    "    return X,Y,Z"
   ]
  },
  {
   "cell_type": "code",
   "execution_count": 389,
   "id": "454696d6",
   "metadata": {},
   "outputs": [
    {
     "data": {
      "text/plain": [
       "(69.8, 67.8, 51.0)"
      ]
     },
     "execution_count": 389,
     "metadata": {},
     "output_type": "execute_result"
    }
   ],
   "source": [
    "sRGB2XYZ(251, 206, 177)"
   ]
  },
  {
   "cell_type": "markdown",
   "id": "8192f35b",
   "metadata": {},
   "source": [
    "//Reference-X, Y and Z refer to specific illuminants and observers.\n",
    "//Common reference values are available below in this same page.\n",
    "\n",
    "var_X = X / Reference-X\n",
    "var_Y = Y / Reference-Y\n",
    "var_Z = Z / Reference-Z\n",
    "\n",
    "if ( var_X > 0.008856 ) :\n",
    "    var_X = var_X ^ ( 1/3 )\n",
    "else                    var_X = ( 7.787 * var_X ) + ( 16 / 116 )\n",
    "if ( var_Y > 0.008856 ) var_Y = var_Y ^ ( 1/3 )\n",
    "else                    var_Y = ( 7.787 * var_Y ) + ( 16 / 116 )\n",
    "if ( var_Z > 0.008856 ) var_Z = var_Z ^ ( 1/3 )\n",
    "else                    var_Z = ( 7.787 * var_Z ) + ( 16 / 116 )\n",
    "\n",
    "CIE-L* = ( 116 * var_Y ) - 16\n",
    "CIE-a* = 500 * ( var_X - var_Y )\n",
    "CIE-b* = 200 * ( var_Y - var_Z )"
   ]
  },
  {
   "cell_type": "code",
   "execution_count": 374,
   "id": "90ef9fac",
   "metadata": {},
   "outputs": [],
   "source": [
    "# //Reference-X, Y and Z refer to specific illuminants and observers.\n",
    "# //Common reference values are available below in this same page.\n",
    "def XYZ2LAB(X, Y, Z): #85.584  123.299  63.748\n",
    "    R_X = 85.5842315637069#86.044\n",
    "    R_Y = 99.50229200493791#99.502\n",
    "    R_Z = 63.74763842008234#64.256\n",
    "    var_X = float(X / R_X)\n",
    "    var_Y = float(Y / R_Y)\n",
    "    var_Z = float(Z / R_Z)\n",
    "\n",
    "    if ( var_X > 0.008856 ):\n",
    "        var_X = var_X ** ( 1/3 )\n",
    "    else:\n",
    "        var_X = ( 7.787 * var_X ) + ( 16 / 116 )\n",
    "    if ( var_Y > 0.008856 ):\n",
    "        var_Y = var_Y ** ( 1/3 )\n",
    "    else:\n",
    "        var_Y = ( 7.787 * var_Y ) + ( 16 / 116 )\n",
    "    if ( var_Z > 0.008856 ):\n",
    "        var_Z = var_Z ** ( 1/3 )\n",
    "    else:\n",
    "        var_Z = ( 7.787 * var_Z ) + ( 16 / 116 )\n",
    "\n",
    "    CIE_L = str(round(( 116 * var_Y ) - 16,3)) + \"%\"\n",
    "    CIE_a = str(round(500 * ( var_X - var_Y ),3))+ \"%\"\n",
    "    CIE_b = str(round(200 * ( var_Y - var_Z ),3)) + \"%\"\n",
    "    return CIE_L,CIE_a,CIE_b"
   ]
  },
  {
   "cell_type": "code",
   "execution_count": 390,
   "id": "326bf7b7",
   "metadata": {},
   "outputs": [
    {
     "data": {
      "text/plain": [
       "('86.076%', '27.168%', '-9.673%')"
      ]
     },
     "execution_count": 390,
     "metadata": {},
     "output_type": "execute_result"
    }
   ],
   "source": [
    "XYZ2LAB(69.8, 67.8, 51.0) #lab(48.367%, -19.139%, 41.262%)"
   ]
  },
  {
   "cell_type": "markdown",
   "id": "2fbd850f",
   "metadata": {},
   "source": [
    "### -------------------------------------------------------------------------------------------------"
   ]
  },
  {
   "cell_type": "code",
   "execution_count": 418,
   "id": "ba99b71a",
   "metadata": {},
   "outputs": [],
   "source": [
    "# //Reference-X, Y and Z refer to specific illuminants and observers.\n",
    "# //Common reference values are available below in this same page.\n",
    "# // Illuminant = D65, Observer = 2°, \n",
    "# \t$x /= 95.047;\n",
    "# \t$y /= 100.00;\n",
    "# \t$z /= 108.883;\n",
    "# // Illuminant = D65, Observer = 10°, \n",
    "# \t//$x /= 94.8110;\n",
    "# \t//$y /= 100.00;\n",
    "# \t//$z /= 107.304;\n",
    "def XYZ2LAB(X, Y, Z): \n",
    "    R_X = 94.8110#95.047\n",
    "    R_Y = 100.00\n",
    "    R_Z = 107.304#108.88\n",
    "    var_X = float(X / R_X)\n",
    "    var_Y = float(Y / R_Y)\n",
    "    var_Z = float(Z / R_Z)\n",
    "#16/116 > 0.1379310344827586\n",
    "    if ( var_X > 0.0088564516790356 ):\n",
    "        var_X = var_X ** ( 1/3 )\n",
    "    else:\n",
    "        var_X = ( 7.787 * var_X ) + ( 0.1379310344827586)\n",
    "    if ( var_Y > 0.0088564516790356 ):\n",
    "        var_Y = var_Y ** ( 1/3 )\n",
    "    else:\n",
    "        var_Y = ( 7.787 * var_Y ) + ( 0.1379310344827586 )\n",
    "    if ( var_Z > 0.0088564516790356 ):\n",
    "        var_Z = var_Z ** ( 1/3 )\n",
    "    else:\n",
    "        var_Z = ( 7.787 * var_Z ) + ( 0.1379310344827586 )\n",
    "\n",
    "    CIE_L =( 116 * var_Y ) - 16\n",
    "    CIE_a = (500 * ( var_X - var_Y ))\n",
    "    CIE_b = (200 * ( var_Y - var_Z ))\n",
    "    return CIE_L,CIE_a,CIE_b"
   ]
  },
  {
   "cell_type": "code",
   "execution_count": 419,
   "id": "b8343912",
   "metadata": {},
   "outputs": [
    {
     "data": {
      "text/plain": [
       "(85.90634386618137, 12.22545430919697, 19.620295497169103)"
      ]
     },
     "execution_count": 419,
     "metadata": {},
     "output_type": "execute_result"
    }
   ],
   "source": [
    "XYZ2LAB(69.8, 67.8, 51.0)"
   ]
  },
  {
   "cell_type": "code",
   "execution_count": 420,
   "id": "6599f2f6",
   "metadata": {},
   "outputs": [],
   "source": [
    "#LAB>XYZ\n",
    "\n",
    "def LAB2XYZ(L,A,B):\n",
    "    var_Y = L/116 + 0.1379310344827586\n",
    "    var_X = A / 500 + var_Y\n",
    "    var_Z = var_Y - B/200\n",
    "    if ( var_X > 0.2068965517241379 ):\n",
    "        var_X = var_X ** ( 3 )\n",
    "    else:\n",
    "        var_X = ( var_X / 7.787) - 0.0177129876053369\n",
    "    if ( var_Y > 0.2068965517241379 ):\n",
    "        var_Y = var_Y ** ( 3 )\n",
    "    else:\n",
    "        var_Y = (var_Y / 7.787) - 0.0177129876053369\n",
    "    if ( var_Z > 0.2068965517241379 ):\n",
    "        var_Z = var_Z ** ( 3 )\n",
    "    else:\n",
    "        var_Z = (var_Z / 7.787) - 0.0177129876053369\n",
    "    var_X *= 95.047\n",
    "    var_Y *= 100.000\n",
    "    var_Z *= 108.883\n",
    "    return var_X,var_Y,var_Z"
   ]
  },
  {
   "cell_type": "code",
   "execution_count": 422,
   "id": "f61f7a05",
   "metadata": {},
   "outputs": [
    {
     "data": {
      "text/plain": [
       "(69.97374355296324, 67.8, 51.750475285171106)"
      ]
     },
     "execution_count": 422,
     "metadata": {},
     "output_type": "execute_result"
    }
   ],
   "source": [
    "LAB2XYZ(85.90634386618137, 12.22545430919697, 19.620295497169103)"
   ]
  },
  {
   "cell_type": "code",
   "execution_count": 423,
   "id": "ebd4a465",
   "metadata": {},
   "outputs": [
    {
     "data": {
      "text/plain": [
       "(85.90634386618137, 12.599743767522043, 18.858435987432642)"
      ]
     },
     "execution_count": 423,
     "metadata": {},
     "output_type": "execute_result"
    }
   ],
   "source": [
    "XYZ2LAB(69.97374355296324, 67.8, 51.750475285171106)"
   ]
  },
  {
   "cell_type": "code",
   "execution_count": 424,
   "id": "a87ab99d",
   "metadata": {},
   "outputs": [
    {
     "data": {
      "text/plain": [
       "(70.1479195818892, 67.8, 52.51199396551186)"
      ]
     },
     "execution_count": 424,
     "metadata": {},
     "output_type": "execute_result"
    }
   ],
   "source": [
    "LAB2XYZ(85.90634386618137, 12.599743767522043, 18.858435987432642)"
   ]
  },
  {
   "cell_type": "code",
   "execution_count": 425,
   "id": "0aa51851",
   "metadata": {},
   "outputs": [
    {
     "data": {
      "text/plain": [
       "(85.90634386618137, 12.974343524308152, 18.092857687289342)"
      ]
     },
     "execution_count": 425,
     "metadata": {},
     "output_type": "execute_result"
    }
   ],
   "source": [
    "XYZ2LAB(70.1479195818892, 67.8, 52.51199396551186)"
   ]
  },
  {
   "cell_type": "code",
   "execution_count": 426,
   "id": "92961ac1",
   "metadata": {},
   "outputs": [
    {
     "data": {
      "text/plain": [
       "(70.32252916328085, 67.8, 53.28471854680933)"
      ]
     },
     "execution_count": 426,
     "metadata": {},
     "output_type": "execute_result"
    }
   ],
   "source": [
    "LAB2XYZ(85.90634386618137, 12.974343524308152, 18.092857687289342)"
   ]
  },
  {
   "cell_type": "code",
   "execution_count": 427,
   "id": "609f1bac",
   "metadata": {},
   "outputs": [
    {
     "data": {
      "text/plain": [
       "(78.2, 80.3, 101.8)"
      ]
     },
     "execution_count": 427,
     "metadata": {},
     "output_type": "execute_result"
    }
   ],
   "source": [
    "sRGB2XYZ(230,230,250)"
   ]
  },
  {
   "cell_type": "code",
   "execution_count": 428,
   "id": "ca0e2f34",
   "metadata": {},
   "outputs": [
    {
     "data": {
      "text/plain": [
       "(91.81929910805874, 4.167882602046314, -10.62489608874182)"
      ]
     },
     "execution_count": 428,
     "metadata": {},
     "output_type": "execute_result"
    }
   ],
   "source": [
    "XYZ2LAB(78.2, 80.3, 101.8)"
   ]
  },
  {
   "cell_type": "code",
   "execution_count": 429,
   "id": "b53f445f",
   "metadata": {},
   "outputs": [
    {
     "data": {
      "text/plain": [
       "(78.39465251922242, 80.29999999999998, 103.29800753000818)"
      ]
     },
     "execution_count": 429,
     "metadata": {},
     "output_type": "execute_result"
    }
   ],
   "source": [
    "LAB2XYZ(91.81929910805874, 4.167882602046314, -10.62489608874182)"
   ]
  },
  {
   "cell_type": "code",
   "execution_count": null,
   "id": "3a9bb63b",
   "metadata": {},
   "outputs": [],
   "source": []
  }
 ],
 "metadata": {
  "kernelspec": {
   "display_name": "Python 3 (ipykernel)",
   "language": "python",
   "name": "python3"
  },
  "language_info": {
   "codemirror_mode": {
    "name": "ipython",
    "version": 3
   },
   "file_extension": ".py",
   "mimetype": "text/x-python",
   "name": "python",
   "nbconvert_exporter": "python",
   "pygments_lexer": "ipython3",
   "version": "3.9.12"
  }
 },
 "nbformat": 4,
 "nbformat_minor": 5
}
